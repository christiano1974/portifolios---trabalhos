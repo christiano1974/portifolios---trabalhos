{
  "nbformat": 4,
  "nbformat_minor": 0,
  "metadata": {
    "colab": {
      "name": "Método de interpolação para o cálculo de integral",
      "provenance": [],
      "authorship_tag": "ABX9TyM7mmpD89jPSgJOJli6E/sa",
      "include_colab_link": true
    },
    "kernelspec": {
      "name": "python3",
      "display_name": "Python 3"
    },
    "language_info": {
      "name": "python"
    }
  },
  "cells": [
    {
      "cell_type": "markdown",
      "metadata": {
        "id": "view-in-github",
        "colab_type": "text"
      },
      "source": [
        "<a href=\"https://colab.research.google.com/github/christiano1974/portifolios-trabalho/blob/main/M%C3%A9todo_de_interpola%C3%A7%C3%A3o_para_o_c%C3%A1lculo_de_integral.ipynb\" target=\"_parent\"><img src=\"https://colab.research.google.com/assets/colab-badge.svg\" alt=\"Open In Colab\"/></a>"
      ]
    },
    {
      "cell_type": "code",
      "execution_count": null,
      "metadata": {
        "id": "SqJKeJvqZMmG"
      },
      "outputs": [],
      "source": [
        "### Neste exercício é aplicado o método da interpolação para calcular a integral definida da função\n",
        "### sin(pi*x**2/2) em relação ao intervalo [0,1]. Está função não tem primitiva a idéia é substitui - lo por uma\n",
        "### função polinomial com valor da integral bem próxima da função original onde é possível usar o teorema fundamental.\n",
        "### do cálculo e de mais fácil resolução."
      ]
    },
    {
      "cell_type": "markdown",
      "source": [
        ""
      ],
      "metadata": {
        "id": "HcHtn1l7Z37U"
      }
    },
    {
      "cell_type": "code",
      "source": [
        "from sympy import *\n",
        "import matplotlib.pyplot as plt\n",
        "%matplotlib inline\n",
        "from mpmath import *\n",
        "from math import *\n",
        "from numpy import *"
      ],
      "metadata": {
        "id": "pyh5ZedeZ40V"
      },
      "execution_count": 3,
      "outputs": []
    },
    {
      "cell_type": "code",
      "source": [
        "# função sin(pi*x**2/2)\n",
        "f = lambda x: sin(pi*pow(x,2)/2)"
      ],
      "metadata": {
        "id": "XX_CIs5MaVo8"
      },
      "execution_count": 5,
      "outputs": []
    },
    {
      "cell_type": "code",
      "source": [
        "# integral definida da função sin(pi*x**2/2) em relação ao intervalo [0,1]\n",
        "quad(f,[0,1])"
      ],
      "metadata": {
        "colab": {
          "base_uri": "https://localhost:8080/"
        },
        "id": "dCf5SscvchL3",
        "outputId": "268e31ed-4c2f-4992-c666-6aca492392ba"
      },
      "execution_count": 6,
      "outputs": [
        {
          "output_type": "execute_result",
          "data": {
            "text/plain": [
              "mpf('0.43825914739035476')"
            ]
          },
          "metadata": {},
          "execution_count": 6
        }
      ]
    },
    {
      "cell_type": "code",
      "source": [
        "# gráfico da função sin(pi*x**2/2) em relação ao intervalo [0,1]\n",
        "X = [0.00,0.25,0.50,0.75,1.00]\n",
        "y = []\n",
        "for valor in X:\n",
        "  y.append(round(f(valor),2))\n",
        "plt.plot(X,y)"
      ],
      "metadata": {
        "colab": {
          "base_uri": "https://localhost:8080/",
          "height": 282
        },
        "id": "E_6zI8rNcSY5",
        "outputId": "99a0026e-3baf-4361-ea8a-c5390241803a"
      },
      "execution_count": 7,
      "outputs": [
        {
          "output_type": "execute_result",
          "data": {
            "text/plain": [
              "[<matplotlib.lines.Line2D at 0x7f796e126750>]"
            ]
          },
          "metadata": {},
          "execution_count": 7
        },
        {
          "output_type": "display_data",
          "data": {
            "image/png": "[encoded data removed]",
            "text/plain": [
              "<Figure size 432x288 with 1 Axes>"
            ]
          },
          "metadata": {
            "needs_background": "light"
          }
        }
      ]
    },
    {
      "cell_type": "code",
      "source": [
        "# processo de interpolação dos pontos (0.00,f(0.00)), (0.25,f(0.25)), ...., (1.00,f(1.00)) para\n",
        "# determinar a função polinomial\n",
        "A = matrix([[0.25**4,0.25**3,0.25**2,0.25],\n",
        "            [0.50**4,0.50**3,0.50**2,0.50],\n",
        "            [0.75**4,0.75**3,0.75**2,0.75],\n",
        "            [1.00**4,1.00**3,1.00**2,1.00]])\n",
        "B = matrix([[f(0.25)],[f(0.50)],[f(0.75)],[f(1.00)]])\n",
        "inv_A = linalg.inv(A)\n",
        "X_1 = inv_A*B\n",
        "print(X_1)"
      ],
      "metadata": {
        "colab": {
          "base_uri": "https://localhost:8080/"
        },
        "id": "yv1skwyFfk1e",
        "outputId": "744582ed-3402-4c1a-e293-48032b928276"
      },
      "execution_count": 8,
      "outputs": [
        {
          "output_type": "stream",
          "name": "stdout",
          "text": [
            "[[-2.00543766]\n",
            " [ 2.14427998]\n",
            " [ 0.7623622 ]\n",
            " [ 0.09879547]]\n"
          ]
        }
      ]
    },
    {
      "cell_type": "code",
      "source": [
        "# função polinômial e o gráfico da função polinomial\n",
        "pol = lambda x: - 2.005*pow(x,4) + 2.144*pow(x,3) + 0.7624*pow(x,2) + 0.099*pow(x,1)\n",
        "X = [0.00,0.25,0.50,0.75,1.00]\n",
        "y_1 = []\n",
        "for valor in X:\n",
        "  y_1.append(round(pol(valor),2))\n",
        "plt.plot(X,y_1,color = \"red\")"
      ],
      "metadata": {
        "colab": {
          "base_uri": "https://localhost:8080/",
          "height": 282
        },
        "id": "g23OPo3YhvjJ",
        "outputId": "54c3b7bb-b501-4f05-bcfc-2f26c6390cba"
      },
      "execution_count": 10,
      "outputs": [
        {
          "output_type": "execute_result",
          "data": {
            "text/plain": [
              "[<matplotlib.lines.Line2D at 0x7f79654edb90>]"
            ]
          },
          "metadata": {},
          "execution_count": 10
        },
        {
          "output_type": "display_data",
          "data": {
            "image/png": "[encoded data removed]",
            "text/plain": [
              "<Figure size 432x288 with 1 Axes>"
            ]
          },
          "metadata": {
            "needs_background": "light"
          }
        }
      ]
    },
    {
      "cell_type": "code",
      "source": [
        "# o gráfico da função original e da função polinomial - comparação\n",
        "fig, ax = plt.subplots(1,2)\n",
        "ax[0].plot(X,y)\n",
        "ax[0].set_title('função f (original)')\n",
        "ax[1].plot(X,y_1,color = \"red\")\n",
        "ax[1].set_title('função p (polinomial')\n",
        "plt.tight_layout()"
      ],
      "metadata": {
        "colab": {
          "base_uri": "https://localhost:8080/",
          "height": 297
        },
        "id": "FaLbZR_hjTDo",
        "outputId": "26a9e635-a61b-4e48-b5cc-6e3fa9bbe789"
      },
      "execution_count": 11,
      "outputs": [
        {
          "output_type": "display_data",
          "data": {
            "image/png": "[encoded data removed]",
            "text/plain": [
              "<Figure size 432x288 with 2 Axes>"
            ]
          },
          "metadata": {
            "needs_background": "light"
          }
        }
      ]
    },
    {
      "cell_type": "code",
      "source": [
        "# cálculo das integrais - comparação - erro\n",
        "print(\"Valor da integral definida da função original em relação ao intervalo [0,1]\")\n",
        "print(quad(f,[0,1]))\n",
        "print(\"\\nValor da integral definida da função polinomial em relação ao intervalo [0,1]\")\n",
        "print(quad(pol,[0,1]))\n",
        "print(\"\\nerro absoluto ou diferença absoluta\")\n",
        "print(math.fabs(quad(f,[0,1])- quad(pol,[0,1])))"
      ],
      "metadata": {
        "colab": {
          "base_uri": "https://localhost:8080/"
        },
        "id": "bSwLVtWKmKMC",
        "outputId": "b2e23ec5-185b-4d62-a299-f66876da7ccd"
      },
      "execution_count": 12,
      "outputs": [
        {
          "output_type": "stream",
          "name": "stdout",
          "text": [
            "Valor da integral definida da função original em relação ao intervalo [0,1]\n",
            "0.438259147390355\n",
            "\n",
            "Valor da integral definida da função polinomial em relação ao intervalo [0,1]\n",
            "0.438633333333333\n",
            "\n",
            "erro absoluto ou diferença absoluta\n",
            "0.00037418594297861096\n"
          ]
        }
      ]
    }
  ]
}