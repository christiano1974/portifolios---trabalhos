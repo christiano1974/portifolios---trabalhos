{
 "cells": [
  {
   "cell_type": "code",
   "execution_count": 1,
   "id": "4baf1fb1",
   "metadata": {},
   "outputs": [],
   "source": [
    "# O objetivo deste programa é identificar se a renda da pessoa é <= 50k ou > 50k (renda anual)\n",
    "# Foi realizado um tratamento de dados e depois foi realizado um modelo de rede neural e um modelo de regressão logística\n",
    "# autor Christiano \n",
    "import pandas as pd"
   ]
  },
  {
   "cell_type": "code",
   "execution_count": 2,
   "id": "bd4b9008",
   "metadata": {},
   "outputs": [],
   "source": [
    "# importação dos dados\n",
    "dataset = pd.read_csv('census.csv',sep = ',')"
   ]
  },
  {
   "cell_type": "code",
   "execution_count": 3,
   "id": "324fc1cb",
   "metadata": {},
   "outputs": [
    {
     "data": {
      "text/html": [
       "<div>\n",
       "<style scoped>\n",
       "    .dataframe tbody tr th:only-of-type {\n",
       "        vertical-align: middle;\n",
       "    }\n",
       "\n",
       "    .dataframe tbody tr th {\n",
       "        vertical-align: top;\n",
       "    }\n",
       "\n",
       "    .dataframe thead th {\n",
       "        text-align: right;\n",
       "    }\n",
       "</style>\n",
       "<table border=\"1\" class=\"dataframe\">\n",
       "  <thead>\n",
       "    <tr style=\"text-align: right;\">\n",
       "      <th></th>\n",
       "      <th>age</th>\n",
       "      <th>workclass</th>\n",
       "      <th>final-weight</th>\n",
       "      <th>education</th>\n",
       "      <th>education-num</th>\n",
       "      <th>marital-status</th>\n",
       "      <th>occupation</th>\n",
       "      <th>relationship</th>\n",
       "      <th>race</th>\n",
       "      <th>sex</th>\n",
       "      <th>capital-gain</th>\n",
       "      <th>capital-loos</th>\n",
       "      <th>hour-per-week</th>\n",
       "      <th>native-country</th>\n",
       "      <th>income</th>\n",
       "    </tr>\n",
       "  </thead>\n",
       "  <tbody>\n",
       "    <tr>\n",
       "      <th>0</th>\n",
       "      <td>39</td>\n",
       "      <td>State-gov</td>\n",
       "      <td>77516</td>\n",
       "      <td>Bachelors</td>\n",
       "      <td>13</td>\n",
       "      <td>Never-married</td>\n",
       "      <td>Adm-clerical</td>\n",
       "      <td>Not-in-family</td>\n",
       "      <td>White</td>\n",
       "      <td>Male</td>\n",
       "      <td>2174</td>\n",
       "      <td>0</td>\n",
       "      <td>40</td>\n",
       "      <td>United-States</td>\n",
       "      <td>&lt;=50K</td>\n",
       "    </tr>\n",
       "    <tr>\n",
       "      <th>1</th>\n",
       "      <td>50</td>\n",
       "      <td>Self-emp-not-inc</td>\n",
       "      <td>83311</td>\n",
       "      <td>Bachelors</td>\n",
       "      <td>13</td>\n",
       "      <td>Married-civ-spouse</td>\n",
       "      <td>Exec-managerial</td>\n",
       "      <td>Husband</td>\n",
       "      <td>White</td>\n",
       "      <td>Male</td>\n",
       "      <td>0</td>\n",
       "      <td>0</td>\n",
       "      <td>13</td>\n",
       "      <td>United-States</td>\n",
       "      <td>&lt;=50K</td>\n",
       "    </tr>\n",
       "    <tr>\n",
       "      <th>2</th>\n",
       "      <td>38</td>\n",
       "      <td>Private</td>\n",
       "      <td>215646</td>\n",
       "      <td>HS-grad</td>\n",
       "      <td>9</td>\n",
       "      <td>Divorced</td>\n",
       "      <td>Handlers-cleaners</td>\n",
       "      <td>Not-in-family</td>\n",
       "      <td>White</td>\n",
       "      <td>Male</td>\n",
       "      <td>0</td>\n",
       "      <td>0</td>\n",
       "      <td>40</td>\n",
       "      <td>United-States</td>\n",
       "      <td>&lt;=50K</td>\n",
       "    </tr>\n",
       "    <tr>\n",
       "      <th>3</th>\n",
       "      <td>53</td>\n",
       "      <td>Private</td>\n",
       "      <td>234721</td>\n",
       "      <td>11th</td>\n",
       "      <td>7</td>\n",
       "      <td>Married-civ-spouse</td>\n",
       "      <td>Handlers-cleaners</td>\n",
       "      <td>Husband</td>\n",
       "      <td>Black</td>\n",
       "      <td>Male</td>\n",
       "      <td>0</td>\n",
       "      <td>0</td>\n",
       "      <td>40</td>\n",
       "      <td>United-States</td>\n",
       "      <td>&lt;=50K</td>\n",
       "    </tr>\n",
       "    <tr>\n",
       "      <th>4</th>\n",
       "      <td>28</td>\n",
       "      <td>Private</td>\n",
       "      <td>338409</td>\n",
       "      <td>Bachelors</td>\n",
       "      <td>13</td>\n",
       "      <td>Married-civ-spouse</td>\n",
       "      <td>Prof-specialty</td>\n",
       "      <td>Wife</td>\n",
       "      <td>Black</td>\n",
       "      <td>Female</td>\n",
       "      <td>0</td>\n",
       "      <td>0</td>\n",
       "      <td>40</td>\n",
       "      <td>Cuba</td>\n",
       "      <td>&lt;=50K</td>\n",
       "    </tr>\n",
       "  </tbody>\n",
       "</table>\n",
       "</div>"
      ],
      "text/plain": [
       "   age          workclass  final-weight   education  education-num  \\\n",
       "0   39          State-gov         77516   Bachelors             13   \n",
       "1   50   Self-emp-not-inc         83311   Bachelors             13   \n",
       "2   38            Private        215646     HS-grad              9   \n",
       "3   53            Private        234721        11th              7   \n",
       "4   28            Private        338409   Bachelors             13   \n",
       "\n",
       "        marital-status          occupation    relationship    race      sex  \\\n",
       "0        Never-married        Adm-clerical   Not-in-family   White     Male   \n",
       "1   Married-civ-spouse     Exec-managerial         Husband   White     Male   \n",
       "2             Divorced   Handlers-cleaners   Not-in-family   White     Male   \n",
       "3   Married-civ-spouse   Handlers-cleaners         Husband   Black     Male   \n",
       "4   Married-civ-spouse      Prof-specialty            Wife   Black   Female   \n",
       "\n",
       "   capital-gain  capital-loos  hour-per-week  native-country  income  \n",
       "0          2174             0             40   United-States   <=50K  \n",
       "1             0             0             13   United-States   <=50K  \n",
       "2             0             0             40   United-States   <=50K  \n",
       "3             0             0             40   United-States   <=50K  \n",
       "4             0             0             40            Cuba   <=50K  "
      ]
     },
     "execution_count": 3,
     "metadata": {},
     "output_type": "execute_result"
    }
   ],
   "source": [
    "# visualização dos dados\n",
    "dataset.head()"
   ]
  },
  {
   "cell_type": "code",
   "execution_count": 4,
   "id": "f53f6455",
   "metadata": {},
   "outputs": [
    {
     "data": {
      "text/plain": [
       "age               0\n",
       "workclass         0\n",
       "final-weight      0\n",
       "education         0\n",
       "education-num     0\n",
       "marital-status    0\n",
       "occupation        0\n",
       "relationship      0\n",
       "race              0\n",
       "sex               0\n",
       "capital-gain      0\n",
       "capital-loos      0\n",
       "hour-per-week     0\n",
       "native-country    0\n",
       "income            0\n",
       "dtype: int64"
      ]
     },
     "execution_count": 4,
     "metadata": {},
     "output_type": "execute_result"
    }
   ],
   "source": [
    "# verificação se não há dados faltantes NAN (Not Avalible)\n",
    "dataset.isnull().sum()"
   ]
  },
  {
   "cell_type": "code",
   "execution_count": 5,
   "id": "1524d7f3",
   "metadata": {},
   "outputs": [
    {
     "name": "stdout",
     "output_type": "stream",
     "text": [
      "<class 'pandas.core.frame.DataFrame'>\n",
      "RangeIndex: 32561 entries, 0 to 32560\n",
      "Data columns (total 15 columns):\n",
      " #   Column          Non-Null Count  Dtype \n",
      "---  ------          --------------  ----- \n",
      " 0   age             32561 non-null  int64 \n",
      " 1   workclass       32561 non-null  object\n",
      " 2   final-weight    32561 non-null  int64 \n",
      " 3   education       32561 non-null  object\n",
      " 4   education-num   32561 non-null  int64 \n",
      " 5   marital-status  32561 non-null  object\n",
      " 6   occupation      32561 non-null  object\n",
      " 7   relationship    32561 non-null  object\n",
      " 8   race            32561 non-null  object\n",
      " 9   sex             32561 non-null  object\n",
      " 10  capital-gain    32561 non-null  int64 \n",
      " 11  capital-loos    32561 non-null  int64 \n",
      " 12  hour-per-week   32561 non-null  int64 \n",
      " 13  native-country  32561 non-null  object\n",
      " 14  income          32561 non-null  object\n",
      "dtypes: int64(6), object(9)\n",
      "memory usage: 3.7+ MB\n"
     ]
    }
   ],
   "source": [
    "# informações sobre as variáveis (colunas) - O tipo e se há dados faltantes\n",
    "dataset.info()"
   ]
  },
  {
   "cell_type": "code",
   "execution_count": 6,
   "id": "706ed7e3",
   "metadata": {},
   "outputs": [
    {
     "data": {
      "text/plain": [
       "(32561, 15)"
      ]
     },
     "execution_count": 6,
     "metadata": {},
     "output_type": "execute_result"
    }
   ],
   "source": [
    "# dimensão da base de dados\n",
    "dataset.shape"
   ]
  },
  {
   "cell_type": "code",
   "execution_count": 7,
   "id": "086ff36a",
   "metadata": {},
   "outputs": [],
   "source": [
    "# Separação da variáveis preditoras ou regressoras da variável resposta\n",
    "X = dataset.iloc[:,0:14].values\n",
    "y = dataset.iloc[:,14].values"
   ]
  },
  {
   "cell_type": "code",
   "execution_count": 8,
   "id": "59e192f0",
   "metadata": {},
   "outputs": [
    {
     "data": {
      "text/plain": [
       "((32561, 14), (32561,))"
      ]
     },
     "execution_count": 8,
     "metadata": {},
     "output_type": "execute_result"
    }
   ],
   "source": [
    "# Verificação dos datafreme obtidos no passo anterior\n",
    "X.shape, y.shape"
   ]
  },
  {
   "cell_type": "code",
   "execution_count": 9,
   "id": "8594c50d",
   "metadata": {},
   "outputs": [],
   "source": [
    "# Preprocessamento - transformar dados categóricos em dados numéricos\n",
    "from sklearn.preprocessing import LabelEncoder\n",
    "labelencoder = LabelEncoder()"
   ]
  },
  {
   "cell_type": "code",
   "execution_count": 10,
   "id": "18f5793d",
   "metadata": {},
   "outputs": [
    {
     "data": {
      "text/plain": [
       "array([39, ' State-gov', 77516, ' Bachelors', 13, ' Never-married',\n",
       "       ' Adm-clerical', ' Not-in-family', ' White', ' Male', 2174, 0, 40,\n",
       "       ' United-States'], dtype=object)"
      ]
     },
     "execution_count": 10,
     "metadata": {},
     "output_type": "execute_result"
    }
   ],
   "source": [
    "# Verificação da primeira linha\n",
    "X[0]"
   ]
  },
  {
   "cell_type": "code",
   "execution_count": 11,
   "id": "b14cf263",
   "metadata": {},
   "outputs": [],
   "source": [
    "# transformação dos dados categóricos em numéricos\n",
    "X[:,1] = labelencoder.fit_transform(X[:,1])\n",
    "X[:,3] = labelencoder.fit_transform(X[:,3])\n",
    "X[:,5] = labelencoder.fit_transform(X[:,5])\n",
    "X[:,6] = labelencoder.fit_transform(X[:,6])\n",
    "X[:,7] = labelencoder.fit_transform(X[:,7])\n",
    "X[:,8] = labelencoder.fit_transform(X[:,8])\n",
    "X[:,9] = labelencoder.fit_transform(X[:,9])\n",
    "X[:,13] = labelencoder.fit_transform(X[:,13])"
   ]
  },
  {
   "cell_type": "code",
   "execution_count": 12,
   "id": "ed944706",
   "metadata": {},
   "outputs": [
    {
     "data": {
      "text/plain": [
       "array([[39, 7, 77516, ..., 0, 40, 39],\n",
       "       [50, 6, 83311, ..., 0, 13, 39],\n",
       "       [38, 4, 215646, ..., 0, 40, 39],\n",
       "       ...,\n",
       "       [58, 4, 151910, ..., 0, 40, 39],\n",
       "       [22, 4, 201490, ..., 0, 20, 39],\n",
       "       [52, 5, 287927, ..., 0, 40, 39]], dtype=object)"
      ]
     },
     "execution_count": 12,
     "metadata": {},
     "output_type": "execute_result"
    }
   ],
   "source": [
    "# Verificação dos dados preditores após a transformação\n",
    "X"
   ]
  },
  {
   "cell_type": "code",
   "execution_count": 13,
   "id": "14d14fc3",
   "metadata": {},
   "outputs": [],
   "source": [
    "# Padronização dos dados preditores\n",
    "from sklearn.preprocessing import StandardScaler\n",
    "scaler_x = StandardScaler()"
   ]
  },
  {
   "cell_type": "code",
   "execution_count": 14,
   "id": "712e5327",
   "metadata": {},
   "outputs": [],
   "source": [
    "X = scaler_x.fit_transform(X)"
   ]
  },
  {
   "cell_type": "code",
   "execution_count": 15,
   "id": "50fc09c8",
   "metadata": {},
   "outputs": [
    {
     "data": {
      "text/plain": [
       "array([[ 0.03067056,  2.15057856, -1.06361075, ..., -0.21665953,\n",
       "        -0.03542945,  0.29156857],\n",
       "       [ 0.83710898,  1.46373585, -1.008707  , ..., -0.21665953,\n",
       "        -2.22215312,  0.29156857],\n",
       "       [-0.04264203,  0.09005041,  0.2450785 , ..., -0.21665953,\n",
       "        -0.03542945,  0.29156857],\n",
       "       ...,\n",
       "       [ 1.42360965,  0.09005041, -0.35877741, ..., -0.21665953,\n",
       "        -0.03542945,  0.29156857],\n",
       "       [-1.21564337,  0.09005041,  0.11095988, ..., -0.21665953,\n",
       "        -1.65522476,  0.29156857],\n",
       "       [ 0.98373415,  0.77689313,  0.92989258, ..., -0.21665953,\n",
       "        -0.03542945,  0.29156857]])"
      ]
     },
     "execution_count": 15,
     "metadata": {},
     "output_type": "execute_result"
    }
   ],
   "source": [
    "X"
   ]
  },
  {
   "cell_type": "code",
   "execution_count": 16,
   "id": "cbc0a445",
   "metadata": {},
   "outputs": [],
   "source": [
    "# Parte de pré - processamento. \n",
    "# Separação da base de dados em base de treino e base de teste\n",
    "from sklearn.model_selection import train_test_split"
   ]
  },
  {
   "cell_type": "code",
   "execution_count": 17,
   "id": "f8e21301",
   "metadata": {},
   "outputs": [],
   "source": [
    "X_train, X_test, y_train, y_test = train_test_split(X,y,test_size = 0.30,random_state = 1)"
   ]
  },
  {
   "cell_type": "code",
   "execution_count": 18,
   "id": "676f2578",
   "metadata": {},
   "outputs": [
    {
     "data": {
      "text/plain": [
       "(22792, 22792)"
      ]
     },
     "execution_count": 18,
     "metadata": {},
     "output_type": "execute_result"
    }
   ],
   "source": [
    "# 70% dos dados para treino\n",
    "len(X_train), len(y_train)"
   ]
  },
  {
   "cell_type": "code",
   "execution_count": 19,
   "id": "7826c2a9",
   "metadata": {},
   "outputs": [
    {
     "name": "stdout",
     "output_type": "stream",
     "text": [
      "0.6999785018887626\n"
     ]
    }
   ],
   "source": [
    "# Verificação\n",
    "print(len(X_train)/len(X))"
   ]
  },
  {
   "cell_type": "code",
   "execution_count": 20,
   "id": "129c3e8d",
   "metadata": {},
   "outputs": [
    {
     "data": {
      "text/plain": [
       "(9769, 9769)"
      ]
     },
     "execution_count": 20,
     "metadata": {},
     "output_type": "execute_result"
    }
   ],
   "source": [
    "# 30% dos dados para teste\n",
    "len(X_test), len(y_test)"
   ]
  },
  {
   "cell_type": "code",
   "execution_count": 21,
   "id": "d898acc3",
   "metadata": {},
   "outputs": [
    {
     "name": "stdout",
     "output_type": "stream",
     "text": [
      "0.30002149811123735\n"
     ]
    }
   ],
   "source": [
    "# Verificação\n",
    "print(len(X_test)/len(X))"
   ]
  },
  {
   "cell_type": "code",
   "execution_count": 22,
   "id": "b8e6e345",
   "metadata": {},
   "outputs": [
    {
     "data": {
      "text/plain": [
       "array([[ 0.03067056,  2.15057856, -1.06361075, ..., -0.21665953,\n",
       "        -0.03542945,  0.29156857],\n",
       "       [ 0.83710898,  1.46373585, -1.008707  , ..., -0.21665953,\n",
       "        -2.22215312,  0.29156857],\n",
       "       [-0.04264203,  0.09005041,  0.2450785 , ..., -0.21665953,\n",
       "        -0.03542945,  0.29156857],\n",
       "       ...,\n",
       "       [ 1.42360965,  0.09005041, -0.35877741, ..., -0.21665953,\n",
       "        -0.03542945,  0.29156857],\n",
       "       [-1.21564337,  0.09005041,  0.11095988, ..., -0.21665953,\n",
       "        -1.65522476,  0.29156857],\n",
       "       [ 0.98373415,  0.77689313,  0.92989258, ..., -0.21665953,\n",
       "        -0.03542945,  0.29156857]])"
      ]
     },
     "execution_count": 22,
     "metadata": {},
     "output_type": "execute_result"
    }
   ],
   "source": [
    "# Verificação dos dados preditores após as transformações\n",
    "X"
   ]
  },
  {
   "cell_type": "code",
   "execution_count": 23,
   "id": "a3e9120b",
   "metadata": {},
   "outputs": [],
   "source": [
    "# rede neural com 2 camadas ocultas com 20 e 100 neurônios.\n",
    "from sklearn.neural_network import MLPClassifier"
   ]
  },
  {
   "cell_type": "code",
   "execution_count": 24,
   "id": "2a3a3fa1",
   "metadata": {},
   "outputs": [
    {
     "name": "stdout",
     "output_type": "stream",
     "text": [
      "Iteration 1, loss = 0.47136534\n",
      "Iteration 2, loss = 0.37533704\n",
      "Iteration 3, loss = 0.35180931\n",
      "Iteration 4, loss = 0.34090052\n",
      "Iteration 5, loss = 0.33571250\n",
      "Iteration 6, loss = 0.33260779\n",
      "Iteration 7, loss = 0.32975938\n",
      "Iteration 8, loss = 0.32838239\n",
      "Iteration 9, loss = 0.32630906\n",
      "Iteration 10, loss = 0.32495541\n",
      "Iteration 11, loss = 0.32377623\n",
      "Iteration 12, loss = 0.32282344\n",
      "Iteration 13, loss = 0.32147877\n",
      "Iteration 14, loss = 0.32126121\n",
      "Iteration 15, loss = 0.32083313\n",
      "Iteration 16, loss = 0.31932177\n",
      "Iteration 17, loss = 0.31845318\n",
      "Iteration 18, loss = 0.31722932\n",
      "Iteration 19, loss = 0.31659782\n",
      "Iteration 20, loss = 0.31621980\n",
      "Iteration 21, loss = 0.31615549\n",
      "Iteration 22, loss = 0.31501741\n",
      "Iteration 23, loss = 0.31447957\n",
      "Iteration 24, loss = 0.31427786\n",
      "Iteration 25, loss = 0.31366115\n",
      "Iteration 26, loss = 0.31262169\n",
      "Iteration 27, loss = 0.31256254\n",
      "Iteration 28, loss = 0.31228482\n",
      "Iteration 29, loss = 0.31136916\n",
      "Iteration 30, loss = 0.31083922\n",
      "Iteration 31, loss = 0.31094919\n",
      "Iteration 32, loss = 0.31032646\n",
      "Iteration 33, loss = 0.30969325\n",
      "Iteration 34, loss = 0.30985315\n",
      "Iteration 35, loss = 0.30895566\n",
      "Iteration 36, loss = 0.30849174\n",
      "Iteration 37, loss = 0.30812837\n",
      "Iteration 38, loss = 0.30802377\n",
      "Iteration 39, loss = 0.30809316\n",
      "Iteration 40, loss = 0.30747523\n",
      "Iteration 41, loss = 0.30664688\n",
      "Iteration 42, loss = 0.30594648\n",
      "Iteration 43, loss = 0.30580595\n",
      "Iteration 44, loss = 0.30589534\n",
      "Iteration 45, loss = 0.30502056\n",
      "Iteration 46, loss = 0.30487458\n",
      "Iteration 47, loss = 0.30463471\n",
      "Iteration 48, loss = 0.30422307\n",
      "Iteration 49, loss = 0.30378785\n",
      "Iteration 50, loss = 0.30330439\n",
      "Iteration 51, loss = 0.30278897\n",
      "Iteration 52, loss = 0.30266915\n",
      "Iteration 53, loss = 0.30261216\n",
      "Iteration 54, loss = 0.30199061\n",
      "Iteration 55, loss = 0.30259449\n",
      "Iteration 56, loss = 0.30178614\n",
      "Iteration 57, loss = 0.30109319\n",
      "Iteration 58, loss = 0.30044392\n",
      "Iteration 59, loss = 0.30031999\n",
      "Iteration 60, loss = 0.30030923\n",
      "Iteration 61, loss = 0.30037028\n",
      "Iteration 62, loss = 0.29975854\n",
      "Iteration 63, loss = 0.29941592\n",
      "Iteration 64, loss = 0.29913213\n",
      "Iteration 65, loss = 0.29889164\n",
      "Iteration 66, loss = 0.29904866\n",
      "Iteration 67, loss = 0.29863173\n",
      "Iteration 68, loss = 0.29865831\n",
      "Iteration 69, loss = 0.29843180\n",
      "Iteration 70, loss = 0.29768568\n",
      "Iteration 71, loss = 0.29801907\n",
      "Iteration 72, loss = 0.29709558\n",
      "Iteration 73, loss = 0.29677388\n",
      "Iteration 74, loss = 0.29648781\n",
      "Iteration 75, loss = 0.29630060\n",
      "Iteration 76, loss = 0.29637796\n",
      "Iteration 77, loss = 0.29577685\n",
      "Iteration 78, loss = 0.29636901\n",
      "Iteration 79, loss = 0.29604996\n",
      "Iteration 80, loss = 0.29636094\n",
      "Iteration 81, loss = 0.29542168\n",
      "Iteration 82, loss = 0.29500438\n",
      "Iteration 83, loss = 0.29515561\n",
      "Iteration 84, loss = 0.29503771\n",
      "Iteration 85, loss = 0.29423564\n",
      "Iteration 86, loss = 0.29425488\n",
      "Iteration 87, loss = 0.29460100\n",
      "Iteration 88, loss = 0.29378219\n",
      "Iteration 89, loss = 0.29380200\n",
      "Iteration 90, loss = 0.29320901\n",
      "Iteration 91, loss = 0.29331471\n",
      "Iteration 92, loss = 0.29305634\n",
      "Iteration 93, loss = 0.29274310\n",
      "Iteration 94, loss = 0.29271184\n",
      "Iteration 95, loss = 0.29258645\n",
      "Iteration 96, loss = 0.29185160\n",
      "Iteration 97, loss = 0.29203949\n",
      "Iteration 98, loss = 0.29150128\n",
      "Iteration 99, loss = 0.29164812\n",
      "Iteration 100, loss = 0.29175465\n",
      "Iteration 101, loss = 0.29105132\n",
      "Iteration 102, loss = 0.29102183\n",
      "Iteration 103, loss = 0.29093885\n",
      "Iteration 104, loss = 0.29056455\n",
      "Iteration 105, loss = 0.29077231\n",
      "Iteration 106, loss = 0.29082128\n",
      "Iteration 107, loss = 0.29017701\n",
      "Iteration 108, loss = 0.28976195\n",
      "Iteration 109, loss = 0.28957306\n",
      "Iteration 110, loss = 0.28919907\n",
      "Iteration 111, loss = 0.28960723\n",
      "Iteration 112, loss = 0.28949087\n",
      "Iteration 113, loss = 0.28846544\n",
      "Iteration 114, loss = 0.28869255\n",
      "Iteration 115, loss = 0.28941271\n",
      "Iteration 116, loss = 0.28832454\n",
      "Iteration 117, loss = 0.28899247\n",
      "Iteration 118, loss = 0.28802657\n",
      "Iteration 119, loss = 0.28773669\n",
      "Iteration 120, loss = 0.28730712\n",
      "Iteration 121, loss = 0.28738812\n",
      "Iteration 122, loss = 0.28710675\n",
      "Iteration 123, loss = 0.28797960\n",
      "Iteration 124, loss = 0.28709152\n",
      "Iteration 125, loss = 0.28841957\n",
      "Iteration 126, loss = 0.28656809\n",
      "Iteration 127, loss = 0.28622496\n",
      "Iteration 128, loss = 0.28596810\n",
      "Iteration 129, loss = 0.28636526\n",
      "Iteration 130, loss = 0.28584914\n",
      "Iteration 131, loss = 0.28656817\n",
      "Iteration 132, loss = 0.28625904\n",
      "Iteration 133, loss = 0.28545052\n",
      "Iteration 134, loss = 0.28493316\n",
      "Iteration 135, loss = 0.28497967\n",
      "Iteration 136, loss = 0.28449500\n",
      "Iteration 137, loss = 0.28514175\n",
      "Iteration 138, loss = 0.28495213\n",
      "Iteration 139, loss = 0.28477979\n",
      "Iteration 140, loss = 0.28461490\n",
      "Iteration 141, loss = 0.28417087\n",
      "Iteration 142, loss = 0.28399735\n",
      "Iteration 143, loss = 0.28387815\n",
      "Iteration 144, loss = 0.28358580\n",
      "Iteration 145, loss = 0.28468434\n",
      "Iteration 146, loss = 0.28352829\n",
      "Iteration 147, loss = 0.28348242\n",
      "Iteration 148, loss = 0.28433324\n",
      "Iteration 149, loss = 0.28358046\n",
      "Iteration 150, loss = 0.28308266\n",
      "Iteration 151, loss = 0.28333224\n",
      "Iteration 152, loss = 0.28311312\n",
      "Iteration 153, loss = 0.28238314\n",
      "Iteration 154, loss = 0.28236701\n",
      "Iteration 155, loss = 0.28372509\n",
      "Iteration 156, loss = 0.28364875\n",
      "Iteration 157, loss = 0.28203074\n",
      "Iteration 158, loss = 0.28159973\n",
      "Iteration 159, loss = 0.28248882\n",
      "Iteration 160, loss = 0.28179034\n",
      "Iteration 161, loss = 0.28201580\n",
      "Iteration 162, loss = 0.28148586\n",
      "Iteration 163, loss = 0.28143999\n",
      "Iteration 164, loss = 0.28239885\n",
      "Iteration 165, loss = 0.28183087\n",
      "Iteration 166, loss = 0.28202672\n",
      "Iteration 167, loss = 0.28181561\n",
      "Iteration 168, loss = 0.28073653\n",
      "Iteration 169, loss = 0.28045471\n",
      "Iteration 170, loss = 0.28067901\n",
      "Iteration 171, loss = 0.28091149\n",
      "Iteration 172, loss = 0.28000538\n",
      "Iteration 173, loss = 0.28012308\n",
      "Iteration 174, loss = 0.28069263\n",
      "Iteration 175, loss = 0.27979171\n",
      "Iteration 176, loss = 0.27996074\n",
      "Iteration 177, loss = 0.28034712\n",
      "Iteration 178, loss = 0.28031544\n",
      "Iteration 179, loss = 0.27915565\n",
      "Iteration 180, loss = 0.27862007\n",
      "Iteration 181, loss = 0.27998851\n",
      "Iteration 182, loss = 0.27930963\n",
      "Iteration 183, loss = 0.27896033\n",
      "Iteration 184, loss = 0.27907345\n",
      "Iteration 185, loss = 0.27909068\n",
      "Iteration 186, loss = 0.27914429\n",
      "Iteration 187, loss = 0.27831238\n",
      "Iteration 188, loss = 0.27785733\n",
      "Iteration 189, loss = 0.27805003\n",
      "Iteration 190, loss = 0.27763895\n",
      "Iteration 191, loss = 0.27921751\n",
      "Iteration 192, loss = 0.27755513\n",
      "Iteration 193, loss = 0.27750023\n",
      "Iteration 194, loss = 0.27792149\n",
      "Iteration 195, loss = 0.27726566\n",
      "Iteration 196, loss = 0.27691156\n",
      "Iteration 197, loss = 0.27689005\n",
      "Iteration 198, loss = 0.27751733\n",
      "Iteration 199, loss = 0.27756620\n",
      "Iteration 200, loss = 0.27676946\n",
      "Iteration 201, loss = 0.27660593\n",
      "Iteration 202, loss = 0.27633435\n",
      "Iteration 203, loss = 0.27580872\n",
      "Iteration 204, loss = 0.27688003\n",
      "Iteration 205, loss = 0.27611395\n",
      "Iteration 206, loss = 0.27571482\n",
      "Iteration 207, loss = 0.27624944\n",
      "Iteration 208, loss = 0.27541683\n",
      "Iteration 209, loss = 0.27561882\n",
      "Iteration 210, loss = 0.27534385\n",
      "Iteration 211, loss = 0.27571402\n",
      "Iteration 212, loss = 0.27542830\n",
      "Iteration 213, loss = 0.27519072\n",
      "Iteration 214, loss = 0.27580114\n",
      "Iteration 215, loss = 0.27556253\n",
      "Iteration 216, loss = 0.27461340\n",
      "Iteration 217, loss = 0.27580078\n",
      "Iteration 218, loss = 0.27495714\n",
      "Iteration 219, loss = 0.27450632\n",
      "Iteration 220, loss = 0.27444160\n",
      "Iteration 221, loss = 0.27452800\n",
      "Iteration 222, loss = 0.27517078\n",
      "Iteration 223, loss = 0.27494136\n",
      "Iteration 224, loss = 0.27493050\n",
      "Iteration 225, loss = 0.27405208\n",
      "Iteration 226, loss = 0.27361142\n",
      "Iteration 227, loss = 0.27308359\n",
      "Iteration 228, loss = 0.27318922\n",
      "Iteration 229, loss = 0.27337746\n",
      "Iteration 230, loss = 0.27276681\n",
      "Iteration 231, loss = 0.27465603\n",
      "Iteration 232, loss = 0.27307758\n",
      "Iteration 233, loss = 0.27304183\n",
      "Iteration 234, loss = 0.27299178\n",
      "Iteration 235, loss = 0.27319651\n",
      "Iteration 236, loss = 0.27416937\n",
      "Iteration 237, loss = 0.27328866\n",
      "Iteration 238, loss = 0.27249274\n",
      "Iteration 239, loss = 0.27292535\n",
      "Iteration 240, loss = 0.27258460\n",
      "Iteration 241, loss = 0.27199280\n",
      "Iteration 242, loss = 0.27285538\n",
      "Iteration 243, loss = 0.27192126\n",
      "Iteration 244, loss = 0.27109735\n",
      "Iteration 245, loss = 0.27160528\n",
      "Iteration 246, loss = 0.27117661\n",
      "Iteration 247, loss = 0.27200265\n",
      "Iteration 248, loss = 0.27137471\n",
      "Iteration 249, loss = 0.27248998\n",
      "Iteration 250, loss = 0.27111757\n",
      "Iteration 251, loss = 0.27245312\n",
      "Iteration 252, loss = 0.27117730\n"
     ]
    },
    {
     "name": "stdout",
     "output_type": "stream",
     "text": [
      "Iteration 253, loss = 0.27062739\n",
      "Iteration 254, loss = 0.27202520\n",
      "Iteration 255, loss = 0.27131173\n",
      "Iteration 256, loss = 0.27113085\n",
      "Iteration 257, loss = 0.27036800\n",
      "Iteration 258, loss = 0.27016214\n",
      "Iteration 259, loss = 0.27066325\n",
      "Iteration 260, loss = 0.27069948\n",
      "Iteration 261, loss = 0.26985465\n",
      "Iteration 262, loss = 0.26997266\n",
      "Iteration 263, loss = 0.27044315\n",
      "Iteration 264, loss = 0.26917452\n",
      "Iteration 265, loss = 0.27021357\n",
      "Iteration 266, loss = 0.27030029\n",
      "Iteration 267, loss = 0.26986679\n",
      "Iteration 268, loss = 0.27012992\n",
      "Iteration 269, loss = 0.26949127\n",
      "Iteration 270, loss = 0.27006543\n",
      "Iteration 271, loss = 0.26864371\n",
      "Iteration 272, loss = 0.26955707\n",
      "Iteration 273, loss = 0.26964552\n",
      "Iteration 274, loss = 0.26873645\n",
      "Iteration 275, loss = 0.26861416\n",
      "Iteration 276, loss = 0.26847850\n",
      "Iteration 277, loss = 0.26902993\n",
      "Iteration 278, loss = 0.26792056\n",
      "Iteration 279, loss = 0.26816362\n",
      "Iteration 280, loss = 0.26883486\n",
      "Iteration 281, loss = 0.26812820\n",
      "Iteration 282, loss = 0.26817536\n",
      "Iteration 283, loss = 0.26882099\n",
      "Iteration 284, loss = 0.26839322\n",
      "Iteration 285, loss = 0.26803552\n",
      "Iteration 286, loss = 0.26774990\n",
      "Iteration 287, loss = 0.26923788\n",
      "Iteration 288, loss = 0.26739530\n",
      "Iteration 289, loss = 0.26885545\n",
      "Iteration 290, loss = 0.26727767\n",
      "Iteration 291, loss = 0.26637138\n",
      "Iteration 292, loss = 0.26650117\n",
      "Iteration 293, loss = 0.26813209\n",
      "Iteration 294, loss = 0.26725667\n",
      "Iteration 295, loss = 0.26688974\n",
      "Iteration 296, loss = 0.26586565\n",
      "Iteration 297, loss = 0.26650452\n",
      "Iteration 298, loss = 0.26787312\n",
      "Iteration 299, loss = 0.26759819\n",
      "Iteration 300, loss = 0.26598453\n",
      "Iteration 301, loss = 0.26623283\n",
      "Iteration 302, loss = 0.26599429\n",
      "Iteration 303, loss = 0.26654677\n",
      "Iteration 304, loss = 0.26623570\n",
      "Iteration 305, loss = 0.26692111\n",
      "Iteration 306, loss = 0.26553853\n",
      "Iteration 307, loss = 0.26657442\n",
      "Iteration 308, loss = 0.26597675\n",
      "Iteration 309, loss = 0.26575296\n",
      "Iteration 310, loss = 0.26467246\n",
      "Iteration 311, loss = 0.26612049\n",
      "Iteration 312, loss = 0.26683729\n",
      "Iteration 313, loss = 0.26584393\n",
      "Iteration 314, loss = 0.26520017\n",
      "Iteration 315, loss = 0.26538990\n",
      "Iteration 316, loss = 0.26610776\n",
      "Iteration 317, loss = 0.26504798\n",
      "Iteration 318, loss = 0.26475005\n",
      "Iteration 319, loss = 0.26475443\n",
      "Iteration 320, loss = 0.26449757\n",
      "Iteration 321, loss = 0.26467414\n",
      "Iteration 322, loss = 0.26521475\n",
      "Iteration 323, loss = 0.26431504\n",
      "Iteration 324, loss = 0.26434089\n",
      "Iteration 325, loss = 0.26431115\n",
      "Iteration 326, loss = 0.26531477\n",
      "Iteration 327, loss = 0.26453013\n",
      "Iteration 328, loss = 0.26386754\n",
      "Iteration 329, loss = 0.26381083\n",
      "Iteration 330, loss = 0.26441848\n",
      "Iteration 331, loss = 0.26348654\n",
      "Iteration 332, loss = 0.26365085\n",
      "Iteration 333, loss = 0.26384649\n",
      "Iteration 334, loss = 0.26436287\n",
      "Iteration 335, loss = 0.26361543\n",
      "Iteration 336, loss = 0.26278375\n",
      "Iteration 337, loss = 0.26262000\n",
      "Iteration 338, loss = 0.26338848\n",
      "Iteration 339, loss = 0.26331057\n",
      "Iteration 340, loss = 0.26293678\n",
      "Iteration 341, loss = 0.26366440\n",
      "Iteration 342, loss = 0.26326421\n",
      "Iteration 343, loss = 0.26258195\n",
      "Iteration 344, loss = 0.26340108\n",
      "Iteration 345, loss = 0.26228356\n",
      "Iteration 346, loss = 0.26353194\n",
      "Iteration 347, loss = 0.26287051\n",
      "Iteration 348, loss = 0.26175786\n",
      "Iteration 349, loss = 0.26352461\n",
      "Iteration 350, loss = 0.26180146\n",
      "Iteration 351, loss = 0.26254736\n",
      "Iteration 352, loss = 0.26149876\n",
      "Iteration 353, loss = 0.26362439\n",
      "Iteration 354, loss = 0.26057860\n",
      "Iteration 355, loss = 0.26202093\n",
      "Iteration 356, loss = 0.26170015\n",
      "Iteration 357, loss = 0.26167372\n",
      "Iteration 358, loss = 0.26181922\n",
      "Iteration 359, loss = 0.26193029\n",
      "Iteration 360, loss = 0.26106714\n",
      "Iteration 361, loss = 0.26194482\n",
      "Iteration 362, loss = 0.26145830\n",
      "Iteration 363, loss = 0.26209875\n",
      "Iteration 364, loss = 0.26082527\n",
      "Iteration 365, loss = 0.26047616\n",
      "Iteration 366, loss = 0.26167845\n",
      "Iteration 367, loss = 0.26028501\n",
      "Iteration 368, loss = 0.26056271\n",
      "Iteration 369, loss = 0.25987385\n",
      "Iteration 370, loss = 0.26015913\n",
      "Iteration 371, loss = 0.26092845\n",
      "Iteration 372, loss = 0.26110083\n",
      "Iteration 373, loss = 0.26039584\n",
      "Iteration 374, loss = 0.26015328\n",
      "Iteration 375, loss = 0.26035608\n",
      "Iteration 376, loss = 0.26046169\n",
      "Iteration 377, loss = 0.25970167\n",
      "Iteration 378, loss = 0.25970689\n",
      "Iteration 379, loss = 0.25976131\n",
      "Iteration 380, loss = 0.26093055\n",
      "Iteration 381, loss = 0.25923544\n",
      "Iteration 382, loss = 0.25990070\n",
      "Iteration 383, loss = 0.26028929\n",
      "Iteration 384, loss = 0.25868518\n",
      "Iteration 385, loss = 0.25962944\n",
      "Iteration 386, loss = 0.25925972\n",
      "Iteration 387, loss = 0.25871766\n",
      "Iteration 388, loss = 0.25894072\n",
      "Iteration 389, loss = 0.25856285\n",
      "Iteration 390, loss = 0.25817077\n",
      "Iteration 391, loss = 0.25940766\n",
      "Iteration 392, loss = 0.25973891\n",
      "Iteration 393, loss = 0.25823506\n",
      "Iteration 394, loss = 0.25778316\n",
      "Iteration 395, loss = 0.25899911\n",
      "Iteration 396, loss = 0.25764681\n",
      "Iteration 397, loss = 0.25809507\n",
      "Iteration 398, loss = 0.25929946\n",
      "Iteration 399, loss = 0.25971429\n",
      "Iteration 400, loss = 0.25861178\n",
      "Iteration 401, loss = 0.25737389\n",
      "Iteration 402, loss = 0.25848764\n",
      "Iteration 403, loss = 0.25856399\n",
      "Iteration 404, loss = 0.25774405\n",
      "Iteration 405, loss = 0.25765734\n",
      "Iteration 406, loss = 0.25703184\n",
      "Iteration 407, loss = 0.25724381\n",
      "Iteration 408, loss = 0.25749738\n",
      "Iteration 409, loss = 0.25666506\n",
      "Iteration 410, loss = 0.25779505\n",
      "Iteration 411, loss = 0.25634842\n",
      "Iteration 412, loss = 0.25723860\n",
      "Iteration 413, loss = 0.25767007\n",
      "Iteration 414, loss = 0.25878472\n",
      "Iteration 415, loss = 0.25828251\n",
      "Iteration 416, loss = 0.25856865\n",
      "Iteration 417, loss = 0.25657326\n",
      "Iteration 418, loss = 0.25697913\n",
      "Iteration 419, loss = 0.25695628\n",
      "Iteration 420, loss = 0.25724234\n",
      "Iteration 421, loss = 0.25718616\n",
      "Iteration 422, loss = 0.25598575\n",
      "Iteration 423, loss = 0.25617554\n",
      "Iteration 424, loss = 0.25752126\n",
      "Iteration 425, loss = 0.25621974\n",
      "Iteration 426, loss = 0.25586718\n",
      "Iteration 427, loss = 0.25627975\n",
      "Iteration 428, loss = 0.25744363\n",
      "Iteration 429, loss = 0.25580899\n",
      "Iteration 430, loss = 0.25560931\n",
      "Iteration 431, loss = 0.25601911\n",
      "Iteration 432, loss = 0.25632531\n",
      "Iteration 433, loss = 0.25555224\n",
      "Iteration 434, loss = 0.25624428\n",
      "Iteration 435, loss = 0.25678324\n",
      "Iteration 436, loss = 0.25613740\n",
      "Iteration 437, loss = 0.25540238\n",
      "Iteration 438, loss = 0.25516911\n",
      "Iteration 439, loss = 0.25498367\n",
      "Iteration 440, loss = 0.25552951\n",
      "Iteration 441, loss = 0.25504920\n",
      "Iteration 442, loss = 0.25570563\n",
      "Iteration 443, loss = 0.25463387\n",
      "Iteration 444, loss = 0.25599752\n",
      "Iteration 445, loss = 0.25527688\n",
      "Iteration 446, loss = 0.25537144\n",
      "Iteration 447, loss = 0.25460992\n",
      "Iteration 448, loss = 0.25536290\n",
      "Iteration 449, loss = 0.25610082\n",
      "Iteration 450, loss = 0.25552160\n",
      "Iteration 451, loss = 0.25452740\n",
      "Iteration 452, loss = 0.25445261\n",
      "Iteration 453, loss = 0.25412564\n",
      "Iteration 454, loss = 0.25490422\n",
      "Iteration 455, loss = 0.25382623\n",
      "Iteration 456, loss = 0.25335615\n",
      "Iteration 457, loss = 0.25544837\n",
      "Iteration 458, loss = 0.25602299\n",
      "Iteration 459, loss = 0.25537949\n",
      "Iteration 460, loss = 0.25440763\n",
      "Iteration 461, loss = 0.25452294\n",
      "Iteration 462, loss = 0.25401484\n",
      "Iteration 463, loss = 0.25291589\n",
      "Iteration 464, loss = 0.25541253\n",
      "Iteration 465, loss = 0.25326834\n",
      "Iteration 466, loss = 0.25347801\n",
      "Iteration 467, loss = 0.25349135\n",
      "Iteration 468, loss = 0.25411665\n",
      "Iteration 469, loss = 0.25290063\n",
      "Iteration 470, loss = 0.25408397\n",
      "Iteration 471, loss = 0.25310544\n",
      "Iteration 472, loss = 0.25368281\n",
      "Iteration 473, loss = 0.25349597\n",
      "Iteration 474, loss = 0.25348384\n",
      "Iteration 475, loss = 0.25421943\n",
      "Iteration 476, loss = 0.25387892\n",
      "Iteration 477, loss = 0.25351233\n",
      "Iteration 478, loss = 0.25280595\n",
      "Iteration 479, loss = 0.25305791\n",
      "Iteration 480, loss = 0.25396032\n",
      "Iteration 481, loss = 0.25296715\n",
      "Iteration 482, loss = 0.25252936\n",
      "Iteration 483, loss = 0.25326973\n",
      "Iteration 484, loss = 0.25321529\n",
      "Iteration 485, loss = 0.25423029\n",
      "Iteration 486, loss = 0.25303005\n",
      "Iteration 487, loss = 0.25446841\n",
      "Iteration 488, loss = 0.25262702\n",
      "Iteration 489, loss = 0.25260096\n",
      "Iteration 490, loss = 0.25329384\n",
      "Iteration 491, loss = 0.25371557\n",
      "Iteration 492, loss = 0.25291584\n",
      "Iteration 493, loss = 0.25249649\n",
      "Iteration 494, loss = 0.25213056\n",
      "Iteration 495, loss = 0.25477742\n",
      "Iteration 496, loss = 0.25140716\n",
      "Iteration 497, loss = 0.25197740\n",
      "Iteration 498, loss = 0.25255862\n",
      "Iteration 499, loss = 0.25333122\n",
      "Iteration 500, loss = 0.25192711\n",
      "Iteration 501, loss = 0.25197475\n"
     ]
    },
    {
     "name": "stdout",
     "output_type": "stream",
     "text": [
      "Iteration 502, loss = 0.25248361\n",
      "Iteration 503, loss = 0.25242547\n",
      "Iteration 504, loss = 0.25251814\n",
      "Iteration 505, loss = 0.25253866\n",
      "Iteration 506, loss = 0.25177371\n",
      "Iteration 507, loss = 0.25060871\n",
      "Iteration 508, loss = 0.25152318\n",
      "Iteration 509, loss = 0.25171947\n",
      "Iteration 510, loss = 0.25087605\n",
      "Iteration 511, loss = 0.25166265\n",
      "Iteration 512, loss = 0.25143101\n",
      "Iteration 513, loss = 0.25275669\n",
      "Iteration 514, loss = 0.25243585\n",
      "Iteration 515, loss = 0.25250469\n",
      "Iteration 516, loss = 0.25172691\n",
      "Iteration 517, loss = 0.25099453\n",
      "Iteration 518, loss = 0.25113185\n",
      "Training loss did not improve more than tol=0.000010 for 10 consecutive epochs. Stopping.\n"
     ]
    },
    {
     "data": {
      "text/html": [
       "<style>#sk-container-id-1 {color: black;background-color: white;}#sk-container-id-1 pre{padding: 0;}#sk-container-id-1 div.sk-toggleable {background-color: white;}#sk-container-id-1 label.sk-toggleable__label {cursor: pointer;display: block;width: 100%;margin-bottom: 0;padding: 0.3em;box-sizing: border-box;text-align: center;}#sk-container-id-1 label.sk-toggleable__label-arrow:before {content: \"▸\";float: left;margin-right: 0.25em;color: #696969;}#sk-container-id-1 label.sk-toggleable__label-arrow:hover:before {color: black;}#sk-container-id-1 div.sk-estimator:hover label.sk-toggleable__label-arrow:before {color: black;}#sk-container-id-1 div.sk-toggleable__content {max-height: 0;max-width: 0;overflow: hidden;text-align: left;background-color: #f0f8ff;}#sk-container-id-1 div.sk-toggleable__content pre {margin: 0.2em;color: black;border-radius: 0.25em;background-color: #f0f8ff;}#sk-container-id-1 input.sk-toggleable__control:checked~div.sk-toggleable__content {max-height: 200px;max-width: 100%;overflow: auto;}#sk-container-id-1 input.sk-toggleable__control:checked~label.sk-toggleable__label-arrow:before {content: \"▾\";}#sk-container-id-1 div.sk-estimator input.sk-toggleable__control:checked~label.sk-toggleable__label {background-color: #d4ebff;}#sk-container-id-1 div.sk-label input.sk-toggleable__control:checked~label.sk-toggleable__label {background-color: #d4ebff;}#sk-container-id-1 input.sk-hidden--visually {border: 0;clip: rect(1px 1px 1px 1px);clip: rect(1px, 1px, 1px, 1px);height: 1px;margin: -1px;overflow: hidden;padding: 0;position: absolute;width: 1px;}#sk-container-id-1 div.sk-estimator {font-family: monospace;background-color: #f0f8ff;border: 1px dotted black;border-radius: 0.25em;box-sizing: border-box;margin-bottom: 0.5em;}#sk-container-id-1 div.sk-estimator:hover {background-color: #d4ebff;}#sk-container-id-1 div.sk-parallel-item::after {content: \"\";width: 100%;border-bottom: 1px solid gray;flex-grow: 1;}#sk-container-id-1 div.sk-label:hover label.sk-toggleable__label {background-color: #d4ebff;}#sk-container-id-1 div.sk-serial::before {content: \"\";position: absolute;border-left: 1px solid gray;box-sizing: border-box;top: 0;bottom: 0;left: 50%;z-index: 0;}#sk-container-id-1 div.sk-serial {display: flex;flex-direction: column;align-items: center;background-color: white;padding-right: 0.2em;padding-left: 0.2em;position: relative;}#sk-container-id-1 div.sk-item {position: relative;z-index: 1;}#sk-container-id-1 div.sk-parallel {display: flex;align-items: stretch;justify-content: center;background-color: white;position: relative;}#sk-container-id-1 div.sk-item::before, #sk-container-id-1 div.sk-parallel-item::before {content: \"\";position: absolute;border-left: 1px solid gray;box-sizing: border-box;top: 0;bottom: 0;left: 50%;z-index: -1;}#sk-container-id-1 div.sk-parallel-item {display: flex;flex-direction: column;z-index: 1;position: relative;background-color: white;}#sk-container-id-1 div.sk-parallel-item:first-child::after {align-self: flex-end;width: 50%;}#sk-container-id-1 div.sk-parallel-item:last-child::after {align-self: flex-start;width: 50%;}#sk-container-id-1 div.sk-parallel-item:only-child::after {width: 0;}#sk-container-id-1 div.sk-dashed-wrapped {border: 1px dashed gray;margin: 0 0.4em 0.5em 0.4em;box-sizing: border-box;padding-bottom: 0.4em;background-color: white;}#sk-container-id-1 div.sk-label label {font-family: monospace;font-weight: bold;display: inline-block;line-height: 1.2em;}#sk-container-id-1 div.sk-label-container {text-align: center;}#sk-container-id-1 div.sk-container {/* jupyter's `normalize.less` sets `[hidden] { display: none; }` but bootstrap.min.css set `[hidden] { display: none !important; }` so we also need the `!important` here to be able to override the default hidden behavior on the sphinx rendered scikit-learn.org. See: https://github.com/scikit-learn/scikit-learn/issues/21755 */display: inline-block !important;position: relative;}#sk-container-id-1 div.sk-text-repr-fallback {display: none;}</style><div id=\"sk-container-id-1\" class=\"sk-top-container\"><div class=\"sk-text-repr-fallback\"><pre>MLPClassifier(hidden_layer_sizes=(20, 100), max_iter=1000, tol=1e-05,\n",
       "              verbose=True)</pre><b>In a Jupyter environment, please rerun this cell to show the HTML representation or trust the notebook. <br />On GitHub, the HTML representation is unable to render, please try loading this page with nbviewer.org.</b></div><div class=\"sk-container\" hidden><div class=\"sk-item\"><div class=\"sk-estimator sk-toggleable\"><input class=\"sk-toggleable__control sk-hidden--visually\" id=\"sk-estimator-id-1\" type=\"checkbox\" checked><label for=\"sk-estimator-id-1\" class=\"sk-toggleable__label sk-toggleable__label-arrow\">MLPClassifier</label><div class=\"sk-toggleable__content\"><pre>MLPClassifier(hidden_layer_sizes=(20, 100), max_iter=1000, tol=1e-05,\n",
       "              verbose=True)</pre></div></div></div></div></div>"
      ],
      "text/plain": [
       "MLPClassifier(hidden_layer_sizes=(20, 100), max_iter=1000, tol=1e-05,\n",
       "              verbose=True)"
      ]
     },
     "execution_count": 24,
     "metadata": {},
     "output_type": "execute_result"
    }
   ],
   "source": [
    "rede_neural_renda = MLPClassifier(max_iter = 1000,verbose = True,tol = 0.0000100,hidden_layer_sizes = (20,100),activation = 'relu')\n",
    "rede_neural_renda.fit(X_train,y_train)"
   ]
  },
  {
   "cell_type": "code",
   "execution_count": 25,
   "id": "c29d79a2",
   "metadata": {},
   "outputs": [
    {
     "data": {
      "text/plain": [
       "array([' <=50K', ' <=50K', ' >50K', ..., ' >50K', ' <=50K', ' <=50K'],\n",
       "      dtype='<U6')"
      ]
     },
     "execution_count": 25,
     "metadata": {},
     "output_type": "execute_result"
    }
   ],
   "source": [
    "# previsões da rede neural\n",
    "previsoes_1 = rede_neural_renda.predict(X_test)\n",
    "previsoes_1"
   ]
  },
  {
   "cell_type": "code",
   "execution_count": 26,
   "id": "a69cc54f",
   "metadata": {},
   "outputs": [
    {
     "data": {
      "text/plain": [
       "array([' <=50K', ' <=50K', ' >50K', ..., ' <=50K', ' <=50K', ' <=50K'],\n",
       "      dtype=object)"
      ]
     },
     "execution_count": 26,
     "metadata": {},
     "output_type": "execute_result"
    }
   ],
   "source": [
    "# valores observados para comparação das previsões\n",
    "y_test"
   ]
  },
  {
   "cell_type": "code",
   "execution_count": 27,
   "id": "e1618fe7",
   "metadata": {},
   "outputs": [
    {
     "data": {
      "text/plain": [
       "0.8453270549698024"
      ]
     },
     "execution_count": 27,
     "metadata": {},
     "output_type": "execute_result"
    }
   ],
   "source": [
    "# medida de acurácia - taxa de acerto\n",
    "from sklearn.metrics import accuracy_score, classification_report, confusion_matrix\n",
    "taxa_acerto_neural = accuracy_score(y_test,previsoes_1)\n",
    "taxa_acerto_neural"
   ]
  },
  {
   "cell_type": "code",
   "execution_count": 28,
   "id": "ab004840",
   "metadata": {},
   "outputs": [
    {
     "name": "stdout",
     "output_type": "stream",
     "text": [
      "              precision    recall  f1-score   support\n",
      "\n",
      "       <=50K       0.89      0.92      0.90      7550\n",
      "        >50K       0.68      0.60      0.64      2219\n",
      "\n",
      "    accuracy                           0.85      9769\n",
      "   macro avg       0.78      0.76      0.77      9769\n",
      "weighted avg       0.84      0.85      0.84      9769\n",
      "\n"
     ]
    }
   ],
   "source": [
    "# matrix de classificação (o modelo acertou 90% da categoria <= 50K e 65% da categoria > 50K )\n",
    "print(classification_report(y_test,previsoes_1))"
   ]
  },
  {
   "cell_type": "code",
   "execution_count": 29,
   "id": "891b5f7c",
   "metadata": {},
   "outputs": [
    {
     "name": "stdout",
     "output_type": "stream",
     "text": [
      "[[6924  626]\n",
      " [ 885 1334]]\n"
     ]
    }
   ],
   "source": [
    "# para <= 50k acertou 6.773 e errou 777\n",
    "# para > 50k acertou 1.452 e errou 767\n",
    "print(confusion_matrix(y_test,previsoes_1))"
   ]
  },
  {
   "cell_type": "code",
   "execution_count": 30,
   "id": "0d245cb5",
   "metadata": {},
   "outputs": [],
   "source": [
    "from yellowbrick.classifier import ConfusionMatrix"
   ]
  },
  {
   "cell_type": "code",
   "execution_count": 33,
   "id": "286c811d",
   "metadata": {},
   "outputs": [
    {
     "data": {
      "image/png": "[encoded data removed]",
      "text/plain": [
       "<Figure size 800x550 with 1 Axes>"
      ]
     },
     "metadata": {},
     "output_type": "display_data"
    }
   ],
   "source": [
    "# matriz de confusão da rede neural (acertos: 6924 + 1334  e  erros: 626 + 885)\n",
    "v = ConfusionMatrix(rede_neural_renda)\n",
    "v.fit(X_train,y_train)\n",
    "v.score(X_test,y_test)\n",
    "v.poof();"
   ]
  },
  {
   "cell_type": "code",
   "execution_count": 34,
   "id": "d58ebeb7",
   "metadata": {},
   "outputs": [
    {
     "data": {
      "text/html": [
       "<style>#sk-container-id-2 {color: black;background-color: white;}#sk-container-id-2 pre{padding: 0;}#sk-container-id-2 div.sk-toggleable {background-color: white;}#sk-container-id-2 label.sk-toggleable__label {cursor: pointer;display: block;width: 100%;margin-bottom: 0;padding: 0.3em;box-sizing: border-box;text-align: center;}#sk-container-id-2 label.sk-toggleable__label-arrow:before {content: \"▸\";float: left;margin-right: 0.25em;color: #696969;}#sk-container-id-2 label.sk-toggleable__label-arrow:hover:before {color: black;}#sk-container-id-2 div.sk-estimator:hover label.sk-toggleable__label-arrow:before {color: black;}#sk-container-id-2 div.sk-toggleable__content {max-height: 0;max-width: 0;overflow: hidden;text-align: left;background-color: #f0f8ff;}#sk-container-id-2 div.sk-toggleable__content pre {margin: 0.2em;color: black;border-radius: 0.25em;background-color: #f0f8ff;}#sk-container-id-2 input.sk-toggleable__control:checked~div.sk-toggleable__content {max-height: 200px;max-width: 100%;overflow: auto;}#sk-container-id-2 input.sk-toggleable__control:checked~label.sk-toggleable__label-arrow:before {content: \"▾\";}#sk-container-id-2 div.sk-estimator input.sk-toggleable__control:checked~label.sk-toggleable__label {background-color: #d4ebff;}#sk-container-id-2 div.sk-label input.sk-toggleable__control:checked~label.sk-toggleable__label {background-color: #d4ebff;}#sk-container-id-2 input.sk-hidden--visually {border: 0;clip: rect(1px 1px 1px 1px);clip: rect(1px, 1px, 1px, 1px);height: 1px;margin: -1px;overflow: hidden;padding: 0;position: absolute;width: 1px;}#sk-container-id-2 div.sk-estimator {font-family: monospace;background-color: #f0f8ff;border: 1px dotted black;border-radius: 0.25em;box-sizing: border-box;margin-bottom: 0.5em;}#sk-container-id-2 div.sk-estimator:hover {background-color: #d4ebff;}#sk-container-id-2 div.sk-parallel-item::after {content: \"\";width: 100%;border-bottom: 1px solid gray;flex-grow: 1;}#sk-container-id-2 div.sk-label:hover label.sk-toggleable__label {background-color: #d4ebff;}#sk-container-id-2 div.sk-serial::before {content: \"\";position: absolute;border-left: 1px solid gray;box-sizing: border-box;top: 0;bottom: 0;left: 50%;z-index: 0;}#sk-container-id-2 div.sk-serial {display: flex;flex-direction: column;align-items: center;background-color: white;padding-right: 0.2em;padding-left: 0.2em;position: relative;}#sk-container-id-2 div.sk-item {position: relative;z-index: 1;}#sk-container-id-2 div.sk-parallel {display: flex;align-items: stretch;justify-content: center;background-color: white;position: relative;}#sk-container-id-2 div.sk-item::before, #sk-container-id-2 div.sk-parallel-item::before {content: \"\";position: absolute;border-left: 1px solid gray;box-sizing: border-box;top: 0;bottom: 0;left: 50%;z-index: -1;}#sk-container-id-2 div.sk-parallel-item {display: flex;flex-direction: column;z-index: 1;position: relative;background-color: white;}#sk-container-id-2 div.sk-parallel-item:first-child::after {align-self: flex-end;width: 50%;}#sk-container-id-2 div.sk-parallel-item:last-child::after {align-self: flex-start;width: 50%;}#sk-container-id-2 div.sk-parallel-item:only-child::after {width: 0;}#sk-container-id-2 div.sk-dashed-wrapped {border: 1px dashed gray;margin: 0 0.4em 0.5em 0.4em;box-sizing: border-box;padding-bottom: 0.4em;background-color: white;}#sk-container-id-2 div.sk-label label {font-family: monospace;font-weight: bold;display: inline-block;line-height: 1.2em;}#sk-container-id-2 div.sk-label-container {text-align: center;}#sk-container-id-2 div.sk-container {/* jupyter's `normalize.less` sets `[hidden] { display: none; }` but bootstrap.min.css set `[hidden] { display: none !important; }` so we also need the `!important` here to be able to override the default hidden behavior on the sphinx rendered scikit-learn.org. See: https://github.com/scikit-learn/scikit-learn/issues/21755 */display: inline-block !important;position: relative;}#sk-container-id-2 div.sk-text-repr-fallback {display: none;}</style><div id=\"sk-container-id-2\" class=\"sk-top-container\"><div class=\"sk-text-repr-fallback\"><pre>LogisticRegression(max_iter=12000)</pre><b>In a Jupyter environment, please rerun this cell to show the HTML representation or trust the notebook. <br />On GitHub, the HTML representation is unable to render, please try loading this page with nbviewer.org.</b></div><div class=\"sk-container\" hidden><div class=\"sk-item\"><div class=\"sk-estimator sk-toggleable\"><input class=\"sk-toggleable__control sk-hidden--visually\" id=\"sk-estimator-id-2\" type=\"checkbox\" checked><label for=\"sk-estimator-id-2\" class=\"sk-toggleable__label sk-toggleable__label-arrow\">LogisticRegression</label><div class=\"sk-toggleable__content\"><pre>LogisticRegression(max_iter=12000)</pre></div></div></div></div></div>"
      ],
      "text/plain": [
       "LogisticRegression(max_iter=12000)"
      ]
     },
     "execution_count": 34,
     "metadata": {},
     "output_type": "execute_result"
    }
   ],
   "source": [
    "# modelo de regressão logística\n",
    "from sklearn.linear_model import LogisticRegression\n",
    "classificador = LogisticRegression(max_iter = 12000)\n",
    "classificador.fit(X_train,y_train)"
   ]
  },
  {
   "cell_type": "code",
   "execution_count": 35,
   "id": "a927ede3",
   "metadata": {},
   "outputs": [
    {
     "data": {
      "text/plain": [
       "array([' <=50K', ' <=50K', ' >50K', ..., ' <=50K', ' <=50K', ' <=50K'],\n",
       "      dtype=object)"
      ]
     },
     "execution_count": 35,
     "metadata": {},
     "output_type": "execute_result"
    }
   ],
   "source": [
    "# previsões do modelo de regressão logística\n",
    "previsoes_2 = classificador.predict(X_test)\n",
    "previsoes_2"
   ]
  },
  {
   "cell_type": "code",
   "execution_count": 36,
   "id": "f08da788",
   "metadata": {},
   "outputs": [
    {
     "data": {
      "text/plain": [
       "array([' <=50K', ' <=50K', ' >50K', ..., ' <=50K', ' <=50K', ' <=50K'],\n",
       "      dtype=object)"
      ]
     },
     "execution_count": 36,
     "metadata": {},
     "output_type": "execute_result"
    }
   ],
   "source": [
    "# valores observados\n",
    "y_test"
   ]
  },
  {
   "cell_type": "code",
   "execution_count": 37,
   "id": "ba2c4ccb",
   "metadata": {},
   "outputs": [
    {
     "data": {
      "text/plain": [
       "0.8306889139113522"
      ]
     },
     "execution_count": 37,
     "metadata": {},
     "output_type": "execute_result"
    }
   ],
   "source": [
    "# taxa de acerto\n",
    "taxa_acerto_logistica = accuracy_score(y_test,previsoes_2)\n",
    "taxa_acerto_logistica"
   ]
  },
  {
   "cell_type": "code",
   "execution_count": 38,
   "id": "c2edeb90",
   "metadata": {},
   "outputs": [
    {
     "name": "stdout",
     "output_type": "stream",
     "text": [
      "[[7110  440]\n",
      " [1214 1005]]\n"
     ]
    }
   ],
   "source": [
    "# para <= 50k acertou 7.110 e errou 440\n",
    "# para > 50k acertou 1.005 e errou 1.214\n",
    "confusao_2 = confusion_matrix(y_test,previsoes_2)\n",
    "print(confusao_2)"
   ]
  },
  {
   "cell_type": "code",
   "execution_count": 39,
   "id": "7a6482e5",
   "metadata": {},
   "outputs": [
    {
     "name": "stdout",
     "output_type": "stream",
     "text": [
      "              precision    recall  f1-score   support\n",
      "\n",
      "       <=50K       0.85      0.94      0.90      7550\n",
      "        >50K       0.70      0.45      0.55      2219\n",
      "\n",
      "    accuracy                           0.83      9769\n",
      "   macro avg       0.77      0.70      0.72      9769\n",
      "weighted avg       0.82      0.83      0.82      9769\n",
      "\n"
     ]
    }
   ],
   "source": [
    "print(classification_report(y_test,previsoes_2))"
   ]
  },
  {
   "cell_type": "code",
   "execution_count": 42,
   "id": "92a3178f",
   "metadata": {},
   "outputs": [
    {
     "data": {
      "image/png": "[encoded data removed]",
      "text/plain": [
       "<Figure size 800x550 with 1 Axes>"
      ]
     },
     "metadata": {},
     "output_type": "display_data"
    }
   ],
   "source": [
    "# matriz da confusão do modelo de regressão logística (acertos: 7110 + 1005 e erros: 440 + 1214)\n",
    "v = ConfusionMatrix(classificador)\n",
    "v.fit(X_train,y_train)\n",
    "v.score(X_test,y_test)\n",
    "v.poof();"
   ]
  },
  {
   "cell_type": "code",
   "execution_count": 40,
   "id": "ab8bc1d9",
   "metadata": {},
   "outputs": [
    {
     "name": "stdout",
     "output_type": "stream",
     "text": [
      "[' <=50K' ' <=50K']\n",
      "0     <=50K\n",
      "1     <=50K\n",
      "Name: income, dtype: object\n"
     ]
    }
   ],
   "source": [
    "# Verificação das previsões no modelo de regressão logística\n",
    "print(classificador.predict([X[0],X[1]])) \n",
    "print(dataset.loc[0:1,'income'])"
   ]
  },
  {
   "cell_type": "code",
   "execution_count": 41,
   "id": "b302600d",
   "metadata": {},
   "outputs": [
    {
     "name": "stdout",
     "output_type": "stream",
     "text": [
      "[' <=50K' ' <=50K']\n",
      "0     <=50K\n",
      "1     <=50K\n",
      "Name: income, dtype: object\n"
     ]
    }
   ],
   "source": [
    "# Verificação das previsões no modelo de redes neurais\n",
    "print(rede_neural_renda.predict([X[0],X[1]]))\n",
    "print(dataset.loc[0:1,'income'])"
   ]
  },
  {
   "cell_type": "markdown",
   "id": "b4775e9c",
   "metadata": {},
   "source": [
    "# ambos os modelos tiveram desempelho semelhante tanto na parte dos acertos como também dos erros. Os modelos conseguiram ter maior precisão na classificação das pessoas com renda <= 50 k. O modelo de redes neurais obteve em geral um desempenho um pouco melhor em relação a regressão logística."
   ]
  }
 ],
 "metadata": {
  "kernelspec": {
   "display_name": "Python 3 (ipykernel)",
   "language": "python",
   "name": "python3"
  },
  "language_info": {
   "codemirror_mode": {
    "name": "ipython",
    "version": 3
   },
   "file_extension": ".py",
   "mimetype": "text/x-python",
   "name": "python",
   "nbconvert_exporter": "python",
   "pygments_lexer": "ipython3",
   "version": "3.10.9"
  }
 },
 "nbformat": 4,
 "nbformat_minor": 5
}
