{
  "nbformat": 4,
  "nbformat_minor": 0,
  "metadata": {
    "colab": {
      "provenance": [],
      "authorship_tag": "ABX9TyOy5N7absMJXe4U+ewsyCMd",
      "include_colab_link": true
    },
    "kernelspec": {
      "name": "python3",
      "display_name": "Python 3"
    },
    "language_info": {
      "name": "python"
    }
  },
  "cells": [
    {
      "cell_type": "markdown",
      "metadata": {
        "id": "view-in-github",
        "colab_type": "text"
      },
      "source": [
        "<a href=\"https://colab.research.google.com/github/christiano1974/portifolios-trabalho/blob/main/VPL_TIR.ipynb\" target=\"_parent\"><img src=\"https://colab.research.google.com/assets/colab-badge.svg\" alt=\"Open In Colab\"/></a>"
      ]
    },
    {
      "cell_type": "code",
      "source": [
        "pip install numpy-financial"
      ],
      "metadata": {
        "colab": {
          "base_uri": "https://localhost:8080/"
        },
        "id": "KaWDD_MrZPHT",
        "outputId": "d702fcd5-31c8-45dc-b8c1-5d5d4fa1cd44"
      },
      "execution_count": 3,
      "outputs": [
        {
          "output_type": "stream",
          "name": "stdout",
          "text": [
            "Collecting numpy-financial\n",
            "  Downloading numpy_financial-1.0.0-py3-none-any.whl (14 kB)\n",
            "Requirement already satisfied: numpy>=1.15 in /usr/local/lib/python3.10/dist-packages (from numpy-financial) (1.23.5)\n",
            "Installing collected packages: numpy-financial\n",
            "Successfully installed numpy-financial-1.0.0\n"
          ]
        }
      ]
    },
    {
      "cell_type": "code",
      "execution_count": 4,
      "metadata": {
        "id": "dB9ihjFEXT6u"
      },
      "outputs": [],
      "source": [
        "import numpy as np\n",
        "import matplotlib.pyplot as plt\n",
        "%matplotlib inline\n",
        "import numpy_financial as npf"
      ]
    },
    {
      "cell_type": "code",
      "source": [
        "# Exemplo 1 - Sobre VP (série de um fluxo de caixa não uniforme)\n",
        "FC = np.array([0,1000.00,1500.00,-1000.00,1500.00])   # fluxo de caixa\n",
        "VPL = npf.npv(rate = 0.05,values = FC)  # valor presente líquido\n",
        "print('Valor Presente = R$',round(VPL,2))\n",
        "print('Projeto deve ser realizado !!!')"
      ],
      "metadata": {
        "colab": {
          "base_uri": "https://localhost:8080/"
        },
        "id": "Iqf92h4uYt_y",
        "outputId": "0d6ac8e2-6e16-43a8-b038-33de0fa9d00b"
      },
      "execution_count": 9,
      "outputs": [
        {
          "output_type": "stream",
          "name": "stdout",
          "text": [
            "Valor Presente = R$ 2683.14\n",
            "Projeto deve ser realizado !!!\n"
          ]
        }
      ]
    },
    {
      "cell_type": "code",
      "source": [
        "#EXEMPLO 2 - Sobre VP (sérei de um fluxo de caixa não uniforme)\n",
        "FC = np.array([0,1500.00,1500.00,1500.00,2000.00,2000.00,3000.00,3500.00])\n",
        "VPL = npf.npv(rate = 0.065,values = FC)  # valor presente\n",
        "print('Valor Presente = R$',round(VPL,2))\n",
        "VF = VPL*1.065**7   # valor futuro\n",
        "print('Valor Futuro = R$',round(VF,2))\n",
        "print('Projeto deve ser realizado !!!')"
      ],
      "metadata": {
        "colab": {
          "base_uri": "https://localhost:8080/"
        },
        "id": "tpEteT81aBnx",
        "outputId": "08f0414b-933d-4c91-a961-077624b44b1d"
      },
      "execution_count": 10,
      "outputs": [
        {
          "output_type": "stream",
          "name": "stdout",
          "text": [
            "Valor Presente = R$ 11295.4\n",
            "Valor Futuro = R$ 17552.89\n",
            "Projeto deve ser realizado !!!\n"
          ]
        }
      ]
    },
    {
      "cell_type": "code",
      "source": [
        "#EXEMPLO 3 - VPL\n",
        "FC = []\n",
        "for k in range(10):\n",
        "    if k == 0:\n",
        "        FC.append(-200000)\n",
        "    FC.append(50000)\n",
        "FC = np.array(FC)\n",
        "VPL = npf.npv(rate = 0.18,values = FC)\n",
        "vpl = round(VPL,2)\n",
        "print('VPL = R$',vpl)\n",
        "print('Projeto deve ser realizado !!!')"
      ],
      "metadata": {
        "colab": {
          "base_uri": "https://localhost:8080/"
        },
        "id": "iz8hVLzl9G2F",
        "outputId": "7eb04f44-08ba-409c-eb5e-69d1191018c7"
      },
      "execution_count": 7,
      "outputs": [
        {
          "output_type": "stream",
          "name": "stdout",
          "text": [
            "VPL = R$ 24704.31\n",
            "Projeto deve ser realizado !!!\n"
          ]
        }
      ]
    },
    {
      "cell_type": "code",
      "source": [
        "#EXEMPLO 4 - VPL\n",
        "FC = []\n",
        "for k in range(10):\n",
        "    if k == 0:\n",
        "        FC.append(-200000)\n",
        "    FC.append(50000)\n",
        "FC = np.array(FC)\n",
        "VPL = npf.npv(rate = 0.22,values = FC)\n",
        "vpl = round(VPL,2)\n",
        "print('VPL = R$',vpl)\n",
        "print('Projeto não dever ser realizado !!!')"
      ],
      "metadata": {
        "colab": {
          "base_uri": "https://localhost:8080/"
        },
        "id": "1pYjodIy9RrO",
        "outputId": "8e527942-b971-4092-d95b-c66c18d05e7f"
      },
      "execution_count": 8,
      "outputs": [
        {
          "output_type": "stream",
          "name": "stdout",
          "text": [
            "VPL = R$ -3840.78\n",
            "Projeto não dever ser realizado !!!\n"
          ]
        }
      ]
    },
    {
      "cell_type": "code",
      "source": [
        "#EXEMPLO 5 (A) - VPL\n",
        "FC = []\n",
        "FC.append(0)\n",
        "for k in range(1,37):\n",
        "    if k <=12:\n",
        "        FC.append(1200.00)\n",
        "    elif k <= 24:\n",
        "        FC.append(2000.00)\n",
        "    else:\n",
        "        FC.append(2500.00)\n",
        "FC = np.array(FC)\n",
        "VPL = npf.npv(rate = 0.03,values = FC)\n",
        "vpl = round(VPL,2)\n",
        "print('custo do pagamento a prazo considerando uma taxa de 3,5% é = R$',vpl + 25000)"
      ],
      "metadata": {
        "colab": {
          "base_uri": "https://localhost:8080/"
        },
        "id": "uIDo_MBS-Tvm",
        "outputId": "23e435c6-3ae8-47ee-9d2c-339d075ae068"
      },
      "execution_count": 11,
      "outputs": [
        {
          "output_type": "stream",
          "name": "stdout",
          "text": [
            "custo do pagamento a prazo considerando uma taxa de 3,5% é = R$ 63149.66\n"
          ]
        }
      ]
    },
    {
      "cell_type": "code",
      "source": [
        "#EXEMPLO 5 (B) - VPL\n",
        "FC = []\n",
        "FC.append(0)\n",
        "for k in range(1,37):\n",
        "    if k <= 12:\n",
        "        FC.append(1200.00)\n",
        "    elif k <= 24:\n",
        "        FC.append(2000.00)\n",
        "    else:\n",
        "        FC.append(2500.00)\n",
        "FC = np.array(FC)\n",
        "VPL = npf.npv(rate = 0.035,values = FC)\n",
        "vpl = round(VPL,2)\n",
        "print('custo do pagamento a prazo considerando uma taxa de 3,5% é = R$',vpl + 25000.00)"
      ],
      "metadata": {
        "colab": {
          "base_uri": "https://localhost:8080/"
        },
        "id": "lmnEtOwr-lMc",
        "outputId": "1d937928-a5f1-4400-bc32-93ea62281763"
      },
      "execution_count": 12,
      "outputs": [
        {
          "output_type": "stream",
          "name": "stdout",
          "text": [
            "custo do pagamento a prazo considerando uma taxa de 3,5% é = R$ 59966.38\n"
          ]
        }
      ]
    },
    {
      "cell_type": "code",
      "source": [
        "#EXEMPLO 5 (C) - VPL\n",
        "FC = []\n",
        "FC.append(0)\n",
        "for k in range(1,37):\n",
        "    if k <= 12:\n",
        "        FC.append(1200.00)\n",
        "    elif k <= 24:\n",
        "        FC.append(2000.00)\n",
        "    else:\n",
        "        FC.append(2500.00)\n",
        "FC = np.array(FC)\n",
        "VPL = npf.npv(rate = 0.04,values = FC)\n",
        "vpl = round(VPL,2)\n",
        "print('custo do pagamento a prazo considerando uma taxa de 4% é = R$',vpl + 25000.00)"
      ],
      "metadata": {
        "colab": {
          "base_uri": "https://localhost:8080/"
        },
        "id": "BXKIml0x-nwO",
        "outputId": "357b551f-d2a3-4d68-fff4-86ce21d495b6"
      },
      "execution_count": 13,
      "outputs": [
        {
          "output_type": "stream",
          "name": "stdout",
          "text": [
            "custo do pagamento a prazo considerando uma taxa de 4% é = R$ 57139.16\n"
          ]
        }
      ]
    },
    {
      "cell_type": "code",
      "source": [
        "#EXEMPLO 1 - TIR\n",
        "FC = [-15000.00,4500.00,5000.00,3500.00,5500.00]\n",
        "TIR = npf.irr(FC)\n",
        "tir = round(TIR,4)*100\n",
        "print('A taxa interna de retorno (tir) para este fluxo de caixa é = ',tir,'%')"
      ],
      "metadata": {
        "colab": {
          "base_uri": "https://localhost:8080/"
        },
        "id": "RJreFUqX-1bO",
        "outputId": "fe136c85-40a5-4213-e4a5-7e25ba2f7370"
      },
      "execution_count": 14,
      "outputs": [
        {
          "output_type": "stream",
          "name": "stdout",
          "text": [
            "A taxa interna de retorno (tir) para este fluxo de caixa é =  8.81 %\n"
          ]
        }
      ]
    },
    {
      "cell_type": "code",
      "source": [
        "#EXEMPLO 2 - TIR\n",
        "FC = []\n",
        "FC.append(-45000.00)\n",
        "for k in range(1,10):\n",
        "    if k <=3:\n",
        "        FC.append(4500.00)\n",
        "    elif k <=5:\n",
        "        FC.append(5000.00)\n",
        "    elif k <=8:\n",
        "        FC.append(6500.00)\n",
        "    else:\n",
        "        FC.append(7500.00)\n",
        "TIR = npf.irr(FC)\n",
        "tir = round(TIR,4)*100\n",
        "print('A taxa interna de retorno (tir) para este fluxo de caixa é = ',tir,'%')"
      ],
      "metadata": {
        "colab": {
          "base_uri": "https://localhost:8080/"
        },
        "id": "H_PwExoX-_hw",
        "outputId": "42752cfd-318e-42f6-fe65-b4bbe16a7c77"
      },
      "execution_count": 15,
      "outputs": [
        {
          "output_type": "stream",
          "name": "stdout",
          "text": [
            "A taxa interna de retorno (tir) para este fluxo de caixa é =  2.16 %\n"
          ]
        }
      ]
    },
    {
      "cell_type": "code",
      "source": [
        "#EXEMPLO 3 - TIR\n",
        "FC = []\n",
        "FC.append(-50000.00*0.70)\n",
        "for k in range(1,13):\n",
        "    if k < 6:\n",
        "        FC.append(3000.00)\n",
        "    else:\n",
        "        FC.append(4000.00)\n",
        "TIR = npf.irr(FC)\n",
        "tir = round(TIR,4)*100\n",
        "print('A taxa interna de retorno (tir) para este fluxo de caixa é = ',tir,'%')"
      ],
      "metadata": {
        "colab": {
          "base_uri": "https://localhost:8080/"
        },
        "id": "ZkevE_U1_Gvv",
        "outputId": "f529c396-db5b-44ae-99e7-133269e793a5"
      },
      "execution_count": 16,
      "outputs": [
        {
          "output_type": "stream",
          "name": "stdout",
          "text": [
            "A taxa interna de retorno (tir) para este fluxo de caixa é =  3.11 %\n"
          ]
        }
      ]
    },
    {
      "cell_type": "code",
      "source": [
        "eixo_x = np.arange(0.00,0.045,0.005)\n",
        "vpl = np.array([npf.npv(i,np.array(FC)) for i in eixo_x])\n",
        "plt.figure(figsize = (10,5))\n",
        "plt.plot(eixo_x,vpl,'k',linewidth = 2,marker = 'o')\n",
        "plt.plot(TIR,0,'k*',markersize = 15,color = 'red')\n",
        "plt.plot(eixo_x,np.zeros(len(eixo_x)),'--',linewidth = 1.5)\n",
        "plt.xlim([0.00,0.045])\n",
        "plt.xlabel('taxas de juros - i',fontsize = 12)\n",
        "plt.ylabel('VPL',fontsize = 12)\n",
        "plt.title('TIR - Taxa interna de retorno',fontsize = 13)\n",
        "plt.legend(labels = ['VPL em função da taxa','TIR'],loc = 'upper right')\n",
        "plt.grid()\n",
        "plt.show()"
      ],
      "metadata": {
        "colab": {
          "base_uri": "https://localhost:8080/",
          "height": 546
        },
        "id": "jFzQxKs0_S7J",
        "outputId": "5254fd97-c4be-4c95-9632-97e0140322c8"
      },
      "execution_count": 18,
      "outputs": [
        {
          "output_type": "stream",
          "name": "stderr",
          "text": [
            "<ipython-input-18-9bc8df2af32c>:5: UserWarning: color is redundantly defined by the 'color' keyword argument and the fmt string \"k*\" (-> color='k'). The keyword argument will take precedence.\n",
            "  plt.plot(TIR,0,'k*',markersize = 15,color = 'red')\n"
          ]
        },
        {
          "output_type": "display_data",
          "data": {
            "text/plain": [
              "<Figure size 1000x500 with 1 Axes>"
            ],
            "image/png": "[encoded data removed]"
          },
          "metadata": {}
        }
      ]
    }
  ]
}