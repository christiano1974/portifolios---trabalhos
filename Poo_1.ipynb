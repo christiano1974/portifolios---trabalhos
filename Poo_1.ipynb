{
  "nbformat": 4,
  "nbformat_minor": 0,
  "metadata": {
    "colab": {
      "provenance": [],
      "authorship_tag": "ABX9TyOAtS8YLM9e/HOaa72iZtuu",
      "include_colab_link": true
    },
    "kernelspec": {
      "name": "python3",
      "display_name": "Python 3"
    },
    "language_info": {
      "name": "python"
    }
  },
  "cells": [
    {
      "cell_type": "markdown",
      "metadata": {
        "id": "view-in-github",
        "colab_type": "text"
      },
      "source": [
        "<a href=\"https://colab.research.google.com/github/christiano1974/portifolios-trabalho/blob/main/Poo_1.ipynb\" target=\"_parent\"><img src=\"https://colab.research.google.com/assets/colab-badge.svg\" alt=\"Open In Colab\"/></a>"
      ]
    },
    {
      "cell_type": "markdown",
      "source": [
        "### Progama de orientação ao objeto em Python considerando herança simples - sobre cadastra e movimentação de conta corrente (saldo, saque, depósito)"
      ],
      "metadata": {
        "id": "sSjriG6lPhiX"
      }
    },
    {
      "cell_type": "code",
      "source": [
        "class Cliente:\n",
        "  def __init__(self,nomecompleto,cpf,endereco,cep):\n",
        "    self._nomecompleto = nomecompleto\n",
        "    self._cpf = cpf\n",
        "    self._endereco = endereco\n",
        "    self._cep = cep\n",
        "\n",
        "  @property\n",
        "  def nomeCompleto(self):\n",
        "        return self._nomecompleto\n",
        "  @property\n",
        "  def Cpf(self):\n",
        "        return self._cpf\n",
        "  @property\n",
        "  def Endereco(self):\n",
        "        return self._endereco\n",
        "  @property\n",
        "  def Cep(self):\n",
        "       return self._cep\n",
        "       \n",
        "  def cadastro(self):\n",
        "      print(f\"\\t Cadastro do Cliente:\\t\\n Nome Completo: {self._nomecompleto}\\n Endereço: {self._endereco}\\n CEP: {self._cep}\\n CPF: {self._cpf}\\n\")"
      ],
      "metadata": {
        "id": "xMtiqlmwyJxR"
      },
      "execution_count": null,
      "outputs": []
    },
    {
      "cell_type": "code",
      "source": [
        "class Conta (Cliente):\n",
        "  def __init__ (self,nomecompleto,cpf,endereco,cep,numeroconta,numeroagencia,saldo: float):\n",
        "    super().__init__(nomecompleto,cpf,endereco,cep)\n",
        "    self._numeroconta = numeroconta\n",
        "    self._numeroagencia = numeroagencia\n",
        "    self._saldo = saldo\n",
        "    \n",
        "  @property\n",
        "  def numeroAgencia(self):\n",
        "        return self._numeroagencia\n",
        "  @property\n",
        "  def numeroConta(self):\n",
        "        return self._numeroconta \n",
        "  @property\n",
        "  def Saldo(self):\n",
        "        return self._saldo\n",
        "   \n",
        "  def deposito (self,valor: float):\n",
        "      if valor > 0:\n",
        "        self._saldo += valor\n",
        "      else:\n",
        "        print(\"O valor do deposito dever ser um valor positivo.\\n\")\n",
        "\n",
        "  def saque (self,valor: float):\n",
        "      if valor > self._saldo:\n",
        "        print(\"Saldo insuficiente para saque.\")\n",
        "      else:\n",
        "        self._saldo -= valor\n",
        "\n",
        "    "
      ],
      "metadata": {
        "id": "177co-X-2t3S"
      },
      "execution_count": null,
      "outputs": []
    },
    {
      "cell_type": "code",
      "source": [
        "conta1 = Conta(\"João da Silva\",\"023.111.000 - 69\",\"Rua Dr. Pedrosa 342 - apt 501 - bairro: Centro\",\"80320 - 120\",\"22033-11\",\"001\",5800.00)\n",
        "conta1.cadastro()\n",
        "print(\" \")\n",
        "print(\"\\t ------------ \\t\")\n",
        "print(\" \")\n",
        "conta2 = Conta(\"Maria Garcia\",\"011.333.211 - 00\",\"Avendia São Paulo 212 - apt 31 - bairro: Água Verde\", \"81322 - 110\",\"11150-23\",\"013\",4200.50)\n",
        "conta2.cadastro()"
      ],
      "metadata": {
        "colab": {
          "base_uri": "https://localhost:8080/"
        },
        "id": "dod4kJWFCsnB",
        "outputId": "351ab357-953c-4b7e-ed60-f24b4200134c"
      },
      "execution_count": null,
      "outputs": [
        {
          "output_type": "stream",
          "name": "stdout",
          "text": [
            "\t Cadastro do Cliente:\t\n",
            " Nome Completo: João da Silva\n",
            " Endereço: Rua Dr. Pedrosa 342 - apt 501 - bairro: Centro\n",
            " CEP: 80320 - 120\n",
            " CPF: 023.111.000 - 69\n",
            "\n",
            " \n",
            "\t ------------ \t\n",
            " \n",
            "\t Cadastro do Cliente:\t\n",
            " Nome Completo: Maria Garcia\n",
            " Endereço: Avendia São Paulo 212 - apt 31 - bairro: Água Verde\n",
            " CEP: 81322 - 110\n",
            " CPF: 011.333.211 - 00\n",
            "\n"
          ]
        }
      ]
    },
    {
      "cell_type": "code",
      "source": [
        "conta1.Saldo"
      ],
      "metadata": {
        "colab": {
          "base_uri": "https://localhost:8080/"
        },
        "id": "EsemZ38qGnml",
        "outputId": "61abee21-0e67-421f-b9cd-50f683c4d01c"
      },
      "execution_count": null,
      "outputs": [
        {
          "output_type": "execute_result",
          "data": {
            "text/plain": [
              "5800.0"
            ]
          },
          "metadata": {},
          "execution_count": 327
        }
      ]
    },
    {
      "cell_type": "code",
      "source": [
        "conta1.deposito(200.00)\n",
        "conta1.Saldo"
      ],
      "metadata": {
        "colab": {
          "base_uri": "https://localhost:8080/"
        },
        "id": "6ItLPfujpY6s",
        "outputId": "89c11044-f676-4209-a67a-4617c58e4a76"
      },
      "execution_count": null,
      "outputs": [
        {
          "output_type": "execute_result",
          "data": {
            "text/plain": [
              "6000.0"
            ]
          },
          "metadata": {},
          "execution_count": 328
        }
      ]
    },
    {
      "cell_type": "code",
      "source": [
        "conta1.deposito(-20.0)"
      ],
      "metadata": {
        "colab": {
          "base_uri": "https://localhost:8080/"
        },
        "id": "aoMzWbeHxG6R",
        "outputId": "8f4a95a7-4827-49d0-b8b1-aee18393b9dd"
      },
      "execution_count": null,
      "outputs": [
        {
          "output_type": "stream",
          "name": "stdout",
          "text": [
            "O valor do deposito dever ser um valor positivo.\n",
            "\n"
          ]
        }
      ]
    },
    {
      "cell_type": "code",
      "source": [
        "conta1.saque(100.00)\n",
        "conta1.Saldo"
      ],
      "metadata": {
        "colab": {
          "base_uri": "https://localhost:8080/"
        },
        "id": "lHpAbUK4xi8V",
        "outputId": "1c1aa4f6-f0c3-426f-9220-4d1cdbf3d3c3"
      },
      "execution_count": null,
      "outputs": [
        {
          "output_type": "execute_result",
          "data": {
            "text/plain": [
              "5900.0"
            ]
          },
          "metadata": {},
          "execution_count": 330
        }
      ]
    }
  ]
}